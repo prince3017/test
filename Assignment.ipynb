{
  "nbformat": 4,
  "nbformat_minor": 0,
  "metadata": {
    "colab": {
      "provenance": [],
      "mount_file_id": "1_wvCI6XhYlNEU9c7wCAknCiaQoS1E_Y9",
      "authorship_tag": "ABX9TyPhSwUPe1KN/7kNTF7hFetX",
      "include_colab_link": true
    },
    "kernelspec": {
      "name": "python3",
      "display_name": "Python 3"
    },
    "language_info": {
      "name": "python"
    }
  },
  "cells": [
    {
      "cell_type": "markdown",
      "metadata": {
        "id": "view-in-github",
        "colab_type": "text"
      },
      "source": [
        "<a href=\"https://colab.research.google.com/github/prince3017/test/blob/master/Assignment.ipynb\" target=\"_parent\"><img src=\"https://colab.research.google.com/assets/colab-badge.svg\" alt=\"Open In Colab\"/></a>"
      ]
    },
    {
      "cell_type": "markdown",
      "source": [
        "Task 1\n",
        "\n",
        "Fetch top 3 departments along with their name and average monthly salary. Below is the format of the report.\n",
        "\n",
        "DEPT_NAME\n",
        "AVG_MONTHLY_SALARY (USD)\n",
        "\n"
      ],
      "metadata": {
        "id": "8FUbvQIQX7w6"
      }
    },
    {
      "cell_type": "markdown",
      "source": [
        "Answer:\n",
        "\n",
        "select d.name as \"DEPT_NAME\", avg(s.AMT) as \"AVG_MONTHLY_SALARY (USD)\" from employees as e join departments as d\n",
        "on e.DEPT_ID = d.id\n",
        "join salaries as s on s.EMP_ID = e.id\n",
        "group by d.name\n",
        "order by avg(s.amt) desc limit 3;"
      ],
      "metadata": {
        "id": "GpCJErJMYMca"
      }
    },
    {
      "cell_type": "markdown",
      "source": [
        "Task 2\n",
        "\n",
        "With the same attachment, use each worksheet as a CSV file and write a script (Bash or Python) that generates the same report. Data is to be read from the CSV files not from a database.\n",
        "\n"
      ],
      "metadata": {
        "id": "DqqqhwARjGRX"
      }
    },
    {
      "cell_type": "code",
      "source": [
        "import pandas as pd"
      ],
      "metadata": {
        "id": "5LbtWpa5jTfP"
      },
      "execution_count": 2,
      "outputs": []
    },
    {
      "cell_type": "code",
      "source": [
        "departments=pd.read_csv(\"/Departments.csv\")"
      ],
      "metadata": {
        "id": "KVkNDDbnjetZ"
      },
      "execution_count": 4,
      "outputs": []
    },
    {
      "cell_type": "code",
      "source": [
        "from google.colab import drive\n",
        "drive.mount('/content/drive')"
      ],
      "metadata": {
        "id": "2NQ51Zesl1X1"
      },
      "execution_count": null,
      "outputs": []
    },
    {
      "cell_type": "code",
      "source": [
        "employees=pd.read_csv(\"/Employees.csv\")"
      ],
      "metadata": {
        "id": "7f5IgX-hmrDM"
      },
      "execution_count": 6,
      "outputs": []
    },
    {
      "cell_type": "code",
      "source": [
        "salaries=pd.read_csv(\"/Salaries.csv\")"
      ],
      "metadata": {
        "id": "Fu29n0uInY0K"
      },
      "execution_count": 5,
      "outputs": []
    },
    {
      "cell_type": "code",
      "source": [
        "df=pd.merge(departments,employees, left_on='ID',right_on='DEPT ID')"
      ],
      "metadata": {
        "id": "nNlz_T8Mnsd7"
      },
      "execution_count": 10,
      "outputs": []
    },
    {
      "cell_type": "code",
      "source": [
        "data= pd.merge(df,salaries,left_on=\"ID_y\",right_on='EMP_ID')"
      ],
      "metadata": {
        "id": "X70qWEaPn6j5"
      },
      "execution_count": 11,
      "outputs": []
    },
    {
      "cell_type": "code",
      "source": [
        "data"
      ],
      "metadata": {
        "colab": {
          "base_uri": "https://localhost:8080/",
          "height": 424
        },
        "id": "VYDFOPsan-BT",
        "outputId": "ffe860a9-54b1-44a0-a446-5a64baf32763"
      },
      "execution_count": 12,
      "outputs": [
        {
          "output_type": "execute_result",
          "data": {
            "text/plain": [
              "     ID_x NAME_x  ID_y   NAME_y  DEPT ID  EMP_ID  MONTH (YYYYMM)  AMT (USD)\n",
              "0       1     HR     1     Jack        1       1          202207       5000\n",
              "1       1     HR     1     Jack        1       1          202208       5000\n",
              "2       1     HR     2     John        1       2          202207       4000\n",
              "3       1     HR     2     John        1       2          202208       4000\n",
              "4       1     HR    10  Shirley        1      10          202207       4800\n",
              "..    ...    ...   ...      ...      ...     ...             ...        ...\n",
              "166     5  Sales    16   Howard        5      16          202305       7500\n",
              "167     5  Sales    16   Howard        5      16          202306       7500\n",
              "168     5  Sales    21    Bruce        5      21          202304       4800\n",
              "169     5  Sales    21    Bruce        5      21          202305       4800\n",
              "170     5  Sales    21    Bruce        5      21          202306       4800\n",
              "\n",
              "[171 rows x 8 columns]"
            ],
            "text/html": [
              "\n",
              "  <div id=\"df-92cbc251-8a79-4f24-a3c7-21b68ed93ff4\">\n",
              "    <div class=\"colab-df-container\">\n",
              "      <div>\n",
              "<style scoped>\n",
              "    .dataframe tbody tr th:only-of-type {\n",
              "        vertical-align: middle;\n",
              "    }\n",
              "\n",
              "    .dataframe tbody tr th {\n",
              "        vertical-align: top;\n",
              "    }\n",
              "\n",
              "    .dataframe thead th {\n",
              "        text-align: right;\n",
              "    }\n",
              "</style>\n",
              "<table border=\"1\" class=\"dataframe\">\n",
              "  <thead>\n",
              "    <tr style=\"text-align: right;\">\n",
              "      <th></th>\n",
              "      <th>ID_x</th>\n",
              "      <th>NAME_x</th>\n",
              "      <th>ID_y</th>\n",
              "      <th>NAME_y</th>\n",
              "      <th>DEPT ID</th>\n",
              "      <th>EMP_ID</th>\n",
              "      <th>MONTH (YYYYMM)</th>\n",
              "      <th>AMT (USD)</th>\n",
              "    </tr>\n",
              "  </thead>\n",
              "  <tbody>\n",
              "    <tr>\n",
              "      <th>0</th>\n",
              "      <td>1</td>\n",
              "      <td>HR</td>\n",
              "      <td>1</td>\n",
              "      <td>Jack</td>\n",
              "      <td>1</td>\n",
              "      <td>1</td>\n",
              "      <td>202207</td>\n",
              "      <td>5000</td>\n",
              "    </tr>\n",
              "    <tr>\n",
              "      <th>1</th>\n",
              "      <td>1</td>\n",
              "      <td>HR</td>\n",
              "      <td>1</td>\n",
              "      <td>Jack</td>\n",
              "      <td>1</td>\n",
              "      <td>1</td>\n",
              "      <td>202208</td>\n",
              "      <td>5000</td>\n",
              "    </tr>\n",
              "    <tr>\n",
              "      <th>2</th>\n",
              "      <td>1</td>\n",
              "      <td>HR</td>\n",
              "      <td>2</td>\n",
              "      <td>John</td>\n",
              "      <td>1</td>\n",
              "      <td>2</td>\n",
              "      <td>202207</td>\n",
              "      <td>4000</td>\n",
              "    </tr>\n",
              "    <tr>\n",
              "      <th>3</th>\n",
              "      <td>1</td>\n",
              "      <td>HR</td>\n",
              "      <td>2</td>\n",
              "      <td>John</td>\n",
              "      <td>1</td>\n",
              "      <td>2</td>\n",
              "      <td>202208</td>\n",
              "      <td>4000</td>\n",
              "    </tr>\n",
              "    <tr>\n",
              "      <th>4</th>\n",
              "      <td>1</td>\n",
              "      <td>HR</td>\n",
              "      <td>10</td>\n",
              "      <td>Shirley</td>\n",
              "      <td>1</td>\n",
              "      <td>10</td>\n",
              "      <td>202207</td>\n",
              "      <td>4800</td>\n",
              "    </tr>\n",
              "    <tr>\n",
              "      <th>...</th>\n",
              "      <td>...</td>\n",
              "      <td>...</td>\n",
              "      <td>...</td>\n",
              "      <td>...</td>\n",
              "      <td>...</td>\n",
              "      <td>...</td>\n",
              "      <td>...</td>\n",
              "      <td>...</td>\n",
              "    </tr>\n",
              "    <tr>\n",
              "      <th>166</th>\n",
              "      <td>5</td>\n",
              "      <td>Sales</td>\n",
              "      <td>16</td>\n",
              "      <td>Howard</td>\n",
              "      <td>5</td>\n",
              "      <td>16</td>\n",
              "      <td>202305</td>\n",
              "      <td>7500</td>\n",
              "    </tr>\n",
              "    <tr>\n",
              "      <th>167</th>\n",
              "      <td>5</td>\n",
              "      <td>Sales</td>\n",
              "      <td>16</td>\n",
              "      <td>Howard</td>\n",
              "      <td>5</td>\n",
              "      <td>16</td>\n",
              "      <td>202306</td>\n",
              "      <td>7500</td>\n",
              "    </tr>\n",
              "    <tr>\n",
              "      <th>168</th>\n",
              "      <td>5</td>\n",
              "      <td>Sales</td>\n",
              "      <td>21</td>\n",
              "      <td>Bruce</td>\n",
              "      <td>5</td>\n",
              "      <td>21</td>\n",
              "      <td>202304</td>\n",
              "      <td>4800</td>\n",
              "    </tr>\n",
              "    <tr>\n",
              "      <th>169</th>\n",
              "      <td>5</td>\n",
              "      <td>Sales</td>\n",
              "      <td>21</td>\n",
              "      <td>Bruce</td>\n",
              "      <td>5</td>\n",
              "      <td>21</td>\n",
              "      <td>202305</td>\n",
              "      <td>4800</td>\n",
              "    </tr>\n",
              "    <tr>\n",
              "      <th>170</th>\n",
              "      <td>5</td>\n",
              "      <td>Sales</td>\n",
              "      <td>21</td>\n",
              "      <td>Bruce</td>\n",
              "      <td>5</td>\n",
              "      <td>21</td>\n",
              "      <td>202306</td>\n",
              "      <td>4800</td>\n",
              "    </tr>\n",
              "  </tbody>\n",
              "</table>\n",
              "<p>171 rows × 8 columns</p>\n",
              "</div>\n",
              "      <button class=\"colab-df-convert\" onclick=\"convertToInteractive('df-92cbc251-8a79-4f24-a3c7-21b68ed93ff4')\"\n",
              "              title=\"Convert this dataframe to an interactive table.\"\n",
              "              style=\"display:none;\">\n",
              "        \n",
              "  <svg xmlns=\"http://www.w3.org/2000/svg\" height=\"24px\"viewBox=\"0 0 24 24\"\n",
              "       width=\"24px\">\n",
              "    <path d=\"M0 0h24v24H0V0z\" fill=\"none\"/>\n",
              "    <path d=\"M18.56 5.44l.94 2.06.94-2.06 2.06-.94-2.06-.94-.94-2.06-.94 2.06-2.06.94zm-11 1L8.5 8.5l.94-2.06 2.06-.94-2.06-.94L8.5 2.5l-.94 2.06-2.06.94zm10 10l.94 2.06.94-2.06 2.06-.94-2.06-.94-.94-2.06-.94 2.06-2.06.94z\"/><path d=\"M17.41 7.96l-1.37-1.37c-.4-.4-.92-.59-1.43-.59-.52 0-1.04.2-1.43.59L10.3 9.45l-7.72 7.72c-.78.78-.78 2.05 0 2.83L4 21.41c.39.39.9.59 1.41.59.51 0 1.02-.2 1.41-.59l7.78-7.78 2.81-2.81c.8-.78.8-2.07 0-2.86zM5.41 20L4 18.59l7.72-7.72 1.47 1.35L5.41 20z\"/>\n",
              "  </svg>\n",
              "      </button>\n",
              "      \n",
              "  <style>\n",
              "    .colab-df-container {\n",
              "      display:flex;\n",
              "      flex-wrap:wrap;\n",
              "      gap: 12px;\n",
              "    }\n",
              "\n",
              "    .colab-df-convert {\n",
              "      background-color: #E8F0FE;\n",
              "      border: none;\n",
              "      border-radius: 50%;\n",
              "      cursor: pointer;\n",
              "      display: none;\n",
              "      fill: #1967D2;\n",
              "      height: 32px;\n",
              "      padding: 0 0 0 0;\n",
              "      width: 32px;\n",
              "    }\n",
              "\n",
              "    .colab-df-convert:hover {\n",
              "      background-color: #E2EBFA;\n",
              "      box-shadow: 0px 1px 2px rgba(60, 64, 67, 0.3), 0px 1px 3px 1px rgba(60, 64, 67, 0.15);\n",
              "      fill: #174EA6;\n",
              "    }\n",
              "\n",
              "    [theme=dark] .colab-df-convert {\n",
              "      background-color: #3B4455;\n",
              "      fill: #D2E3FC;\n",
              "    }\n",
              "\n",
              "    [theme=dark] .colab-df-convert:hover {\n",
              "      background-color: #434B5C;\n",
              "      box-shadow: 0px 1px 3px 1px rgba(0, 0, 0, 0.15);\n",
              "      filter: drop-shadow(0px 1px 2px rgba(0, 0, 0, 0.3));\n",
              "      fill: #FFFFFF;\n",
              "    }\n",
              "  </style>\n",
              "\n",
              "      <script>\n",
              "        const buttonEl =\n",
              "          document.querySelector('#df-92cbc251-8a79-4f24-a3c7-21b68ed93ff4 button.colab-df-convert');\n",
              "        buttonEl.style.display =\n",
              "          google.colab.kernel.accessAllowed ? 'block' : 'none';\n",
              "\n",
              "        async function convertToInteractive(key) {\n",
              "          const element = document.querySelector('#df-92cbc251-8a79-4f24-a3c7-21b68ed93ff4');\n",
              "          const dataTable =\n",
              "            await google.colab.kernel.invokeFunction('convertToInteractive',\n",
              "                                                     [key], {});\n",
              "          if (!dataTable) return;\n",
              "\n",
              "          const docLinkHtml = 'Like what you see? Visit the ' +\n",
              "            '<a target=\"_blank\" href=https://colab.research.google.com/notebooks/data_table.ipynb>data table notebook</a>'\n",
              "            + ' to learn more about interactive tables.';\n",
              "          element.innerHTML = '';\n",
              "          dataTable['output_type'] = 'display_data';\n",
              "          await google.colab.output.renderOutput(dataTable, element);\n",
              "          const docLink = document.createElement('div');\n",
              "          docLink.innerHTML = docLinkHtml;\n",
              "          element.appendChild(docLink);\n",
              "        }\n",
              "      </script>\n",
              "    </div>\n",
              "  </div>\n",
              "  "
            ]
          },
          "metadata": {},
          "execution_count": 12
        }
      ]
    },
    {
      "cell_type": "markdown",
      "source": [
        "Task 3\n",
        "\n",
        "Given below is a Bash / Python script that performs following computation on an integer input (n):\n",
        "If n is less than 10: Calculate its Square\n",
        "Example: 4 => 16\n",
        "If n is between 10 and 20: Calculate the factorial of (n-10)\n",
        "Example: 15 => 120\n",
        "If n is greater than 20: Calculate the sum of all integers between 1 and (n-20)\n",
        "Example: 25 => 15\n",
        "\n",
        "The task is to identify the bugs in the script, fix them and share the new script. Only one of the two scripts required Bash or Python. Hint: You can correct the script by only changing 3-4 characters.\n"
      ],
      "metadata": {
        "id": "w61DOi7Wooo0"
      }
    },
    {
      "cell_type": "code",
      "source": [
        "def compute(n):\n",
        "    if n < 10:\n",
        "        out = n ** 2\n",
        "    elif n < 20:\n",
        "        out = 1\n",
        "        for i in range(1, n-9):\n",
        "            out *= i\n",
        "    else:\n",
        "        lim = n - 19\n",
        "        out = lim * lim\n",
        "        out = out - lim\n",
        "        out = out / 2\n",
        "    print(out)"
      ],
      "metadata": {
        "id": "TetT_6x_ovOy"
      },
      "execution_count": 14,
      "outputs": []
    },
    {
      "cell_type": "code",
      "source": [
        "n = int(input(\"Enter an integer: \"))\n",
        "compute(n)"
      ],
      "metadata": {
        "colab": {
          "base_uri": "https://localhost:8080/"
        },
        "id": "6BpAkTwFozx6",
        "outputId": "86bb64e6-b0ff-416e-b347-1d459d8d9944"
      },
      "execution_count": 17,
      "outputs": [
        {
          "output_type": "stream",
          "name": "stdout",
          "text": [
            "Enter an integer: 4\n",
            "16\n"
          ]
        }
      ]
    }
  ]
}